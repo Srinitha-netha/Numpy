{
  "nbformat": 4,
  "nbformat_minor": 0,
  "metadata": {
    "colab": {
      "provenance": [],
      "authorship_tag": "ABX9TyM8o9/ktzPJ4dAJZzA0Jobo",
      "include_colab_link": true
    },
    "kernelspec": {
      "name": "python3",
      "display_name": "Python 3"
    },
    "language_info": {
      "name": "python"
    }
  },
  "cells": [
    {
      "cell_type": "markdown",
      "metadata": {
        "id": "view-in-github",
        "colab_type": "text"
      },
      "source": [
        "<a href=\"https://colab.research.google.com/github/Srinitha-netha/Numpy/blob/main/numpy.ipynb\" target=\"_parent\"><img src=\"https://colab.research.google.com/assets/colab-badge.svg\" alt=\"Open In Colab\"/></a>"
      ]
    },
    {
      "cell_type": "markdown",
      "source": [
        "#Numpy\n"
      ],
      "metadata": {
        "id": "SpVDExU5m_H_"
      }
    },
    {
      "cell_type": "code",
      "execution_count": null,
      "metadata": {
        "id": "_sk2KsG-xdzZ"
      },
      "outputs": [],
      "source": [
        "import numpy as np\n",
        "import time"
      ]
    },
    {
      "cell_type": "code",
      "source": [
        "a=[1,2,3,4,5,6,7,8,9,10]*1000\n",
        "start=time.time()\n",
        "for i in range(len(a)):\n",
        "  a[i]=a[i]*2\n",
        "print(\"Time taken:\",time.time()-start)\n"
      ],
      "metadata": {
        "colab": {
          "base_uri": "https://localhost:8080/"
        },
        "id": "VCkLAWNPY1O5",
        "outputId": "c0ac88b1-2d5f-4ad0-f4de-65646be45724"
      },
      "execution_count": null,
      "outputs": [
        {
          "output_type": "stream",
          "name": "stdout",
          "text": [
            "Time taken: 0.0023925304412841797\n"
          ]
        }
      ]
    },
    {
      "cell_type": "code",
      "source": [
        "a=[1,2,3,4,5,6,7,8,9,10]*1000 # we use numpy to decrease the time complexity of an array and memory efficient\n",
        "\n",
        "b=np.array(a)\n",
        "start=time.time()\n",
        "new_b=b*2\n",
        "print(\"Time taken:\",time.time()-start)\n"
      ],
      "metadata": {
        "colab": {
          "base_uri": "https://localhost:8080/"
        },
        "id": "aCzZ4ilSaSro",
        "outputId": "9de8d964-332c-4749-e73b-ee0edbe3e6fc"
      },
      "execution_count": null,
      "outputs": [
        {
          "output_type": "stream",
          "name": "stdout",
          "text": [
            "Time taken: 0.0002231597900390625\n"
          ]
        }
      ]
    },
    {
      "cell_type": "code",
      "source": [
        "import sys\n"
      ],
      "metadata": {
        "id": "OoU83Mx9bYdU"
      },
      "execution_count": null,
      "outputs": []
    },
    {
      "cell_type": "code",
      "source": [
        "a=[1,2,3,4,5]\n",
        "arr=np.array(a)\n",
        "print(\"List size:\",sys.getsizeof(a),\"bytes\")\n",
        "print(\"Numpy size:\",arr.nbytes,\"bytes\")"
      ],
      "metadata": {
        "colab": {
          "base_uri": "https://localhost:8080/"
        },
        "id": "plsS3ZSybb4k",
        "outputId": "771cd986-21a7-45f7-c115-c3569a4f369d"
      },
      "execution_count": null,
      "outputs": [
        {
          "output_type": "stream",
          "name": "stdout",
          "text": [
            "List size: 104 bytes\n",
            "Numpy size: 40 bytes\n"
          ]
        }
      ]
    },
    {
      "cell_type": "code",
      "source": [
        "np.array([1,2,3])"
      ],
      "metadata": {
        "colab": {
          "base_uri": "https://localhost:8080/"
        },
        "id": "MGMNdH6-c76Z",
        "outputId": "24ea6a0d-3e58-4547-c56e-5d1febdbe24f"
      },
      "execution_count": null,
      "outputs": [
        {
          "output_type": "execute_result",
          "data": {
            "text/plain": [
              "array([1, 2, 3])"
            ]
          },
          "metadata": {},
          "execution_count": 228
        }
      ]
    },
    {
      "cell_type": "code",
      "source": [
        "#dimensions and shape\n",
        "arr=np.array(34)\n",
        "arr.ndim"
      ],
      "metadata": {
        "colab": {
          "base_uri": "https://localhost:8080/"
        },
        "id": "7Yzzn22YdawW",
        "outputId": "08d02c73-8daf-469a-dfd4-11726655b9e8"
      },
      "execution_count": null,
      "outputs": [
        {
          "output_type": "execute_result",
          "data": {
            "text/plain": [
              "0"
            ]
          },
          "metadata": {},
          "execution_count": 229
        }
      ]
    },
    {
      "cell_type": "code",
      "source": [
        "b=np.array([1,2,3,1,2])\n",
        "b.ndim"
      ],
      "metadata": {
        "colab": {
          "base_uri": "https://localhost:8080/"
        },
        "id": "jgRRNSweeSan",
        "outputId": "a4e19cee-17b8-40df-c5db-0a8eb87e3354"
      },
      "execution_count": null,
      "outputs": [
        {
          "output_type": "execute_result",
          "data": {
            "text/plain": [
              "1"
            ]
          },
          "metadata": {},
          "execution_count": 230
        }
      ]
    },
    {
      "cell_type": "code",
      "source": [
        "a=np.array([[]]) # as long as the bracters increams the dimension also increases\n",
        "a.ndim #1 bracket = 1 dimension\n",
        "a.shape"
      ],
      "metadata": {
        "colab": {
          "base_uri": "https://localhost:8080/"
        },
        "id": "7FyPqPbRetjJ",
        "outputId": "35a54fc6-5784-4a9e-bb90-6e296e8e807e"
      },
      "execution_count": null,
      "outputs": [
        {
          "output_type": "execute_result",
          "data": {
            "text/plain": [
              "(1, 0)"
            ]
          },
          "metadata": {},
          "execution_count": 231
        }
      ]
    },
    {
      "cell_type": "code",
      "source": [
        "b=np.array([[[]]])\n",
        "b.ndim\n",
        "b.shape"
      ],
      "metadata": {
        "colab": {
          "base_uri": "https://localhost:8080/"
        },
        "id": "-jOkbpXtfwOe",
        "outputId": "aa10fcff-67cd-43e0-8802-efb6c95b735e"
      },
      "execution_count": null,
      "outputs": [
        {
          "output_type": "execute_result",
          "data": {
            "text/plain": [
              "(1, 1, 0)"
            ]
          },
          "metadata": {},
          "execution_count": 232
        }
      ]
    },
    {
      "cell_type": "code",
      "source": [
        "ar=np.arange(0,10)\n",
        "ar"
      ],
      "metadata": {
        "colab": {
          "base_uri": "https://localhost:8080/"
        },
        "id": "FOxCYqiWhQ9J",
        "outputId": "b9c75931-1033-45f2-9674-035b51ce0bbd"
      },
      "execution_count": null,
      "outputs": [
        {
          "output_type": "execute_result",
          "data": {
            "text/plain": [
              "array([0, 1, 2, 3, 4, 5, 6, 7, 8, 9])"
            ]
          },
          "metadata": {},
          "execution_count": 233
        }
      ]
    },
    {
      "cell_type": "code",
      "source": [
        "ar=np.arange(0,10,2)\n",
        "ar"
      ],
      "metadata": {
        "colab": {
          "base_uri": "https://localhost:8080/"
        },
        "id": "CdRMZW6GjXAK",
        "outputId": "bfe08a16-103a-4991-ea3d-5d74c094f783"
      },
      "execution_count": null,
      "outputs": [
        {
          "output_type": "execute_result",
          "data": {
            "text/plain": [
              "array([0, 2, 4, 6, 8])"
            ]
          },
          "metadata": {},
          "execution_count": 234
        }
      ]
    },
    {
      "cell_type": "code",
      "source": [
        "arr=np.linspace(0,10,5) # start:stop :No of values between them\n",
        "arr"
      ],
      "metadata": {
        "colab": {
          "base_uri": "https://localhost:8080/"
        },
        "id": "Z2ozVwVIjc2V",
        "outputId": "96c0aaea-3798-4f2b-f4da-2a72b3f39c9e"
      },
      "execution_count": null,
      "outputs": [
        {
          "output_type": "execute_result",
          "data": {
            "text/plain": [
              "array([ 0. ,  2.5,  5. ,  7.5, 10. ])"
            ]
          },
          "metadata": {},
          "execution_count": 235
        }
      ]
    },
    {
      "cell_type": "code",
      "source": [
        "arr=np.linspace(0,1,10)\n",
        "arr"
      ],
      "metadata": {
        "colab": {
          "base_uri": "https://localhost:8080/"
        },
        "id": "Ob2Z0DTAkE4-",
        "outputId": "d9f1d41e-3dd4-45dc-ae48-64e9028628c5"
      },
      "execution_count": null,
      "outputs": [
        {
          "output_type": "execute_result",
          "data": {
            "text/plain": [
              "array([0.        , 0.11111111, 0.22222222, 0.33333333, 0.44444444,\n",
              "       0.55555556, 0.66666667, 0.77777778, 0.88888889, 1.        ])"
            ]
          },
          "metadata": {},
          "execution_count": 236
        }
      ]
    },
    {
      "cell_type": "code",
      "source": [
        "arr=np.logspace(1, 3, 3) #logarithmic scale array 10^1->10^3 -> with 3values\n",
        "#start :stop:no of values between them\n",
        "arr"
      ],
      "metadata": {
        "colab": {
          "base_uri": "https://localhost:8080/"
        },
        "id": "4aCr54czk5tD",
        "outputId": "58c67969-74a2-4d74-e80d-d18b67b34b9e"
      },
      "execution_count": null,
      "outputs": [
        {
          "output_type": "execute_result",
          "data": {
            "text/plain": [
              "array([  10.,  100., 1000.])"
            ]
          },
          "metadata": {},
          "execution_count": 237
        }
      ]
    },
    {
      "cell_type": "code",
      "source": [
        "arr1=np.zeros(5)\n",
        "arr1"
      ],
      "metadata": {
        "colab": {
          "base_uri": "https://localhost:8080/"
        },
        "id": "SiAkrPSUzr0R",
        "outputId": "f9e508f6-f2b2-46a8-cb29-f708ded8c7d5"
      },
      "execution_count": null,
      "outputs": [
        {
          "output_type": "execute_result",
          "data": {
            "text/plain": [
              "array([0., 0., 0., 0., 0.])"
            ]
          },
          "metadata": {},
          "execution_count": 238
        }
      ]
    },
    {
      "cell_type": "code",
      "source": [
        "arr=np.zeros([3,2])\n",
        "arr"
      ],
      "metadata": {
        "colab": {
          "base_uri": "https://localhost:8080/"
        },
        "id": "AY87FgPq1g1Z",
        "outputId": "0dfaaa3e-9bc5-443d-f927-8864d0c85987"
      },
      "execution_count": null,
      "outputs": [
        {
          "output_type": "execute_result",
          "data": {
            "text/plain": [
              "array([[0., 0.],\n",
              "       [0., 0.],\n",
              "       [0., 0.]])"
            ]
          },
          "metadata": {},
          "execution_count": 239
        }
      ]
    },
    {
      "cell_type": "code",
      "source": [
        "arr=np.ones([5,2],dtype=int) #by default it will be the float\n",
        "arr"
      ],
      "metadata": {
        "id": "nHfELiIU1ox9",
        "colab": {
          "base_uri": "https://localhost:8080/"
        },
        "outputId": "8d5ad3e5-1311-4cac-beb7-4404738b0fe9"
      },
      "execution_count": null,
      "outputs": [
        {
          "output_type": "execute_result",
          "data": {
            "text/plain": [
              "array([[1, 1],\n",
              "       [1, 1],\n",
              "       [1, 1],\n",
              "       [1, 1],\n",
              "       [1, 1]])"
            ]
          },
          "metadata": {},
          "execution_count": 240
        }
      ]
    },
    {
      "cell_type": "code",
      "source": [
        "arr=np.full(10,2) #array full of any value\n",
        "arr"
      ],
      "metadata": {
        "id": "so2x6BYqNlnG",
        "colab": {
          "base_uri": "https://localhost:8080/"
        },
        "outputId": "96fb82c4-1698-4330-ddfe-17d2b0a2e050"
      },
      "execution_count": null,
      "outputs": [
        {
          "output_type": "execute_result",
          "data": {
            "text/plain": [
              "array([2, 2, 2, 2, 2, 2, 2, 2, 2, 2])"
            ]
          },
          "metadata": {},
          "execution_count": 241
        }
      ]
    },
    {
      "cell_type": "code",
      "source": [
        "arr=np.full([2,4],7) #[row,col],default value\n",
        "arr"
      ],
      "metadata": {
        "colab": {
          "base_uri": "https://localhost:8080/"
        },
        "id": "x-DbWKftPBeH",
        "outputId": "d7d129d9-1b41-446d-e2db-e6c0c4744a5b"
      },
      "execution_count": null,
      "outputs": [
        {
          "output_type": "execute_result",
          "data": {
            "text/plain": [
              "array([[7, 7, 7, 7],\n",
              "       [7, 7, 7, 7]])"
            ]
          },
          "metadata": {},
          "execution_count": 242
        }
      ]
    },
    {
      "cell_type": "code",
      "source": [
        "arr=np.empty([2,3]) #unintialized array\n",
        "arr"
      ],
      "metadata": {
        "colab": {
          "base_uri": "https://localhost:8080/"
        },
        "id": "RaMxF-5APYxu",
        "outputId": "3a345ea2-11ba-4ed3-c469-ceefecb80f7c"
      },
      "execution_count": null,
      "outputs": [
        {
          "output_type": "execute_result",
          "data": {
            "text/plain": [
              "array([[0., 0., 0.],\n",
              "       [0., 0., 0.]])"
            ]
          },
          "metadata": {},
          "execution_count": 243
        }
      ]
    },
    {
      "cell_type": "code",
      "source": [
        "arr=np.random.rand(10) #random array and range is from 0 to 1\n",
        "arr"
      ],
      "metadata": {
        "colab": {
          "base_uri": "https://localhost:8080/"
        },
        "id": "FutjKSf_QGEG",
        "outputId": "68ad3d7a-d0a6-430b-9123-552ccf405a03"
      },
      "execution_count": null,
      "outputs": [
        {
          "output_type": "execute_result",
          "data": {
            "text/plain": [
              "array([0.84692906, 0.58224043, 0.06303436, 0.00440406, 0.17491577,\n",
              "       0.25872406, 0.09105919, 0.85067137, 0.38247986, 0.26356194])"
            ]
          },
          "metadata": {},
          "execution_count": 244
        }
      ]
    },
    {
      "cell_type": "code",
      "source": [
        "arr=np.random.rand(3,2)\n",
        "arr"
      ],
      "metadata": {
        "colab": {
          "base_uri": "https://localhost:8080/"
        },
        "id": "1ySYLBpNQ2-B",
        "outputId": "368d064c-7675-406a-b857-c8565fb0c64f"
      },
      "execution_count": null,
      "outputs": [
        {
          "output_type": "execute_result",
          "data": {
            "text/plain": [
              "array([[0.28542374, 0.65298593],\n",
              "       [0.7454895 , 0.36486611],\n",
              "       [0.12211651, 0.77141288]])"
            ]
          },
          "metadata": {},
          "execution_count": 245
        }
      ]
    },
    {
      "cell_type": "code",
      "source": [
        "arr=np.random.randn(2,3) #random float values from std distribution\n",
        "arr"
      ],
      "metadata": {
        "colab": {
          "base_uri": "https://localhost:8080/"
        },
        "id": "6pfmrIWYRUCj",
        "outputId": "d894324b-f187-48b8-ff0f-b7b337118058"
      },
      "execution_count": null,
      "outputs": [
        {
          "output_type": "execute_result",
          "data": {
            "text/plain": [
              "array([[ 0.54910455, -1.25936038, -0.48868063],\n",
              "       [ 0.4792703 ,  0.53081251, -0.08813602]])"
            ]
          },
          "metadata": {},
          "execution_count": 246
        }
      ]
    },
    {
      "cell_type": "code",
      "source": [
        "arr=np.random.randint(10,100,size=(2,3)) #start:stop ,size which means rows and col\n",
        "arr"
      ],
      "metadata": {
        "colab": {
          "base_uri": "https://localhost:8080/"
        },
        "id": "uk7pWXydRvKA",
        "outputId": "b96537ee-3665-498e-960f-2b71af6129b4"
      },
      "execution_count": null,
      "outputs": [
        {
          "output_type": "execute_result",
          "data": {
            "text/plain": [
              "array([[96, 97, 12],\n",
              "       [36, 55, 65]])"
            ]
          },
          "metadata": {},
          "execution_count": 247
        }
      ]
    },
    {
      "cell_type": "code",
      "source": [
        "#numpy datatypes and typeCasting\n",
        "arr=np.array([1,2,3.1,4,5])\n",
        "arr"
      ],
      "metadata": {
        "colab": {
          "base_uri": "https://localhost:8080/"
        },
        "id": "KyU8DLlKSeOz",
        "outputId": "634764bd-2bb2-453e-c660-2b436f28ac5c"
      },
      "execution_count": null,
      "outputs": [
        {
          "output_type": "execute_result",
          "data": {
            "text/plain": [
              "array([1. , 2. , 3.1, 4. , 5. ])"
            ]
          },
          "metadata": {},
          "execution_count": 248
        }
      ]
    },
    {
      "cell_type": "code",
      "source": [
        "print(type(arr))"
      ],
      "metadata": {
        "colab": {
          "base_uri": "https://localhost:8080/"
        },
        "id": "Ld9Uj_YdS6W9",
        "outputId": "0a626ba3-95cd-4649-afd0-b3b0b4ab9618"
      },
      "execution_count": null,
      "outputs": [
        {
          "output_type": "stream",
          "name": "stdout",
          "text": [
            "<class 'numpy.ndarray'>\n"
          ]
        }
      ]
    },
    {
      "cell_type": "code",
      "source": [
        "arr=np.array([1,2,3,4,5]) #only integers\n",
        "arr.dtype"
      ],
      "metadata": {
        "colab": {
          "base_uri": "https://localhost:8080/"
        },
        "id": "3Az6Act6TTbQ",
        "outputId": "c3971975-c706-4093-d6ed-05d02e589368"
      },
      "execution_count": null,
      "outputs": [
        {
          "output_type": "execute_result",
          "data": {
            "text/plain": [
              "dtype('int64')"
            ]
          },
          "metadata": {},
          "execution_count": 250
        }
      ]
    },
    {
      "cell_type": "code",
      "source": [
        "arr=np.array([1.1,2,5,8,5])\n",
        "arr.dtype"
      ],
      "metadata": {
        "colab": {
          "base_uri": "https://localhost:8080/"
        },
        "id": "AfQev46iTiU-",
        "outputId": "c6ea0129-babd-4068-ba2d-3854bc60f4db"
      },
      "execution_count": null,
      "outputs": [
        {
          "output_type": "execute_result",
          "data": {
            "text/plain": [
              "dtype('float64')"
            ]
          },
          "metadata": {},
          "execution_count": 251
        }
      ]
    },
    {
      "cell_type": "code",
      "source": [
        "arr=np.array([\"1\",2,3.5]) # here dtype('<U32') means it is a string\n",
        "arr.dtype"
      ],
      "metadata": {
        "colab": {
          "base_uri": "https://localhost:8080/"
        },
        "id": "OrIapmWQTs2B",
        "outputId": "504fbdb4-01ff-4a52-a776-8dec68bf9780"
      },
      "execution_count": null,
      "outputs": [
        {
          "output_type": "execute_result",
          "data": {
            "text/plain": [
              "dtype('<U32')"
            ]
          },
          "metadata": {},
          "execution_count": 252
        }
      ]
    },
    {
      "cell_type": "code",
      "source": [
        "#convert int to float\n",
        "arr=np.array([1,2,3,4,5],dtype=float)\n",
        "arr.dtype\n",
        "#you can do even convert float to int also by change the values in array and dtype as int"
      ],
      "metadata": {
        "colab": {
          "base_uri": "https://localhost:8080/"
        },
        "id": "dVvpGzLtT-zA",
        "outputId": "7e690c85-78e1-417d-c82b-9b70e57f631b"
      },
      "execution_count": null,
      "outputs": [
        {
          "output_type": "execute_result",
          "data": {
            "text/plain": [
              "dtype('float64')"
            ]
          },
          "metadata": {},
          "execution_count": 253
        }
      ]
    },
    {
      "cell_type": "code",
      "source": [
        "#type casting is -> astype()\n",
        "arr=np.array([1,2,3])\n",
        "arr1=arr.astype(float)\n",
        "arr1"
      ],
      "metadata": {
        "colab": {
          "base_uri": "https://localhost:8080/"
        },
        "id": "6tLz3dAlUNvc",
        "outputId": "f1c0db2d-7fd4-4750-9f6c-48a520516fb0"
      },
      "execution_count": null,
      "outputs": [
        {
          "output_type": "execute_result",
          "data": {
            "text/plain": [
              "array([1., 2., 3.])"
            ]
          },
          "metadata": {},
          "execution_count": 254
        }
      ]
    },
    {
      "cell_type": "code",
      "source": [
        "#type Casting Error\n",
        "#we cannot convert a str into a int or float"
      ],
      "metadata": {
        "id": "19f1rW51V59v"
      },
      "execution_count": null,
      "outputs": []
    },
    {
      "cell_type": "code",
      "source": [
        "arr=np.array([[1,2,3],[4,5,6]])\n",
        "arr"
      ],
      "metadata": {
        "colab": {
          "base_uri": "https://localhost:8080/"
        },
        "id": "WwuSR7wiXkEk",
        "outputId": "b5dd70ce-d1df-49a1-9830-ac394b02dab0"
      },
      "execution_count": null,
      "outputs": [
        {
          "output_type": "execute_result",
          "data": {
            "text/plain": [
              "array([[1, 2, 3],\n",
              "       [4, 5, 6]])"
            ]
          },
          "metadata": {},
          "execution_count": 256
        }
      ]
    },
    {
      "cell_type": "code",
      "source": [
        "arr.ndim"
      ],
      "metadata": {
        "colab": {
          "base_uri": "https://localhost:8080/"
        },
        "id": "LorrkkRaX_Ot",
        "outputId": "d6787318-8eba-4cc3-baee-506a46a816c9"
      },
      "execution_count": null,
      "outputs": [
        {
          "output_type": "execute_result",
          "data": {
            "text/plain": [
              "2"
            ]
          },
          "metadata": {},
          "execution_count": 257
        }
      ]
    },
    {
      "cell_type": "code",
      "source": [
        "arr.shape"
      ],
      "metadata": {
        "colab": {
          "base_uri": "https://localhost:8080/"
        },
        "id": "LnJ_AfzVYXKZ",
        "outputId": "6d15d66d-194f-4564-d1ff-0a2e3a53d953"
      },
      "execution_count": null,
      "outputs": [
        {
          "output_type": "execute_result",
          "data": {
            "text/plain": [
              "(2, 3)"
            ]
          },
          "metadata": {},
          "execution_count": 258
        }
      ]
    },
    {
      "cell_type": "code",
      "source": [
        "arr.size"
      ],
      "metadata": {
        "colab": {
          "base_uri": "https://localhost:8080/"
        },
        "id": "Sdp2e_eGYo0A",
        "outputId": "f4c61764-853a-407c-8f16-47a58a30731b"
      },
      "execution_count": null,
      "outputs": [
        {
          "output_type": "execute_result",
          "data": {
            "text/plain": [
              "6"
            ]
          },
          "metadata": {},
          "execution_count": 259
        }
      ]
    },
    {
      "cell_type": "code",
      "source": [
        "arr.itemsize # each element takes 8 bytes of memory"
      ],
      "metadata": {
        "colab": {
          "base_uri": "https://localhost:8080/"
        },
        "id": "E-2hwlZWZG07",
        "outputId": "5253bef5-91ef-4541-c9c2-5c200b3d0f68"
      },
      "execution_count": null,
      "outputs": [
        {
          "output_type": "execute_result",
          "data": {
            "text/plain": [
              "8"
            ]
          },
          "metadata": {},
          "execution_count": 260
        }
      ]
    },
    {
      "cell_type": "code",
      "source": [
        "#REshape\n",
        "arr=np.array([1,2,3,4,5,6])\n",
        "reshaped=arr.reshape(2,3)\n",
        "reshaped"
      ],
      "metadata": {
        "colab": {
          "base_uri": "https://localhost:8080/"
        },
        "id": "_p1muiI4Z9gE",
        "outputId": "460f3dd9-c49c-41c6-b489-49a2dc8fe684"
      },
      "execution_count": null,
      "outputs": [
        {
          "output_type": "execute_result",
          "data": {
            "text/plain": [
              "array([[1, 2, 3],\n",
              "       [4, 5, 6]])"
            ]
          },
          "metadata": {},
          "execution_count": 261
        }
      ]
    },
    {
      "cell_type": "code",
      "source": [
        "reshaped2=reshaped.reshape(3,2)\n",
        "reshaped2"
      ],
      "metadata": {
        "colab": {
          "base_uri": "https://localhost:8080/"
        },
        "id": "jmQoquU4ae1X",
        "outputId": "59ad4870-d1a6-4786-b7ef-27ba83119edf"
      },
      "execution_count": null,
      "outputs": [
        {
          "output_type": "execute_result",
          "data": {
            "text/plain": [
              "array([[1, 2],\n",
              "       [3, 4],\n",
              "       [5, 6]])"
            ]
          },
          "metadata": {},
          "execution_count": 262
        }
      ]
    },
    {
      "cell_type": "code",
      "source": [
        "#ravel->converts into 1D array\n",
        "ravel=reshaped2.ravel()\n",
        "ravel"
      ],
      "metadata": {
        "colab": {
          "base_uri": "https://localhost:8080/"
        },
        "id": "zbMM5_kcar2B",
        "outputId": "4ba1dc4a-ac7b-4b42-ba9e-84dc4a9ef56e"
      },
      "execution_count": null,
      "outputs": [
        {
          "output_type": "execute_result",
          "data": {
            "text/plain": [
              "array([1, 2, 3, 4, 5, 6])"
            ]
          },
          "metadata": {},
          "execution_count": 263
        }
      ]
    },
    {
      "cell_type": "code",
      "source": [
        "ravel[0]=100# it updates the values of 0 index\n",
        "print(ravel)\n",
        "print(reshaped2)"
      ],
      "metadata": {
        "colab": {
          "base_uri": "https://localhost:8080/"
        },
        "id": "W0LPpquqb3eq",
        "outputId": "5e6d7ed1-6260-46f1-a988-0e2ce6d21eac"
      },
      "execution_count": null,
      "outputs": [
        {
          "output_type": "stream",
          "name": "stdout",
          "text": [
            "[100   2   3   4   5   6]\n",
            "[[100   2]\n",
            " [  3   4]\n",
            " [  5   6]]\n"
          ]
        }
      ]
    },
    {
      "cell_type": "code",
      "source": [
        "#Flatten -> coverts into 1 D array\n",
        "#it returns of copy of an array #Flatten is independent if any changes makes dodesnt reflect in original array\n",
        "flat=reshaped2.flatten()\n",
        "flat"
      ],
      "metadata": {
        "colab": {
          "base_uri": "https://localhost:8080/"
        },
        "id": "g6wQiLsmcKlF",
        "outputId": "0573bac8-1c37-49db-ae03-658179c9765e"
      },
      "execution_count": null,
      "outputs": [
        {
          "output_type": "execute_result",
          "data": {
            "text/plain": [
              "array([100,   2,   3,   4,   5,   6])"
            ]
          },
          "metadata": {},
          "execution_count": 265
        }
      ]
    },
    {
      "cell_type": "code",
      "source": [
        "flat[0]=100# it updates the values of 0 index\n",
        "print(flat)\n",
        "print(reshaped2)"
      ],
      "metadata": {
        "colab": {
          "base_uri": "https://localhost:8080/"
        },
        "id": "4rFqMcE8cksc",
        "outputId": "3de6a409-c49a-4c76-feff-baeea06b4887"
      },
      "execution_count": null,
      "outputs": [
        {
          "output_type": "stream",
          "name": "stdout",
          "text": [
            "[100   2   3   4   5   6]\n",
            "[[100   2]\n",
            " [  3   4]\n",
            " [  5   6]]\n"
          ]
        }
      ]
    },
    {
      "cell_type": "code",
      "source": [
        "#Arithematic operations on Arrays\n",
        "#there should be equal no of elements should be present in both arrays\n",
        "a=np.array([1,2,3])\n",
        "b=np.array([4,5,6])\n",
        "print(a+b)     #Addition\n",
        "print(b-a)     #Subtraction\n",
        "print(a*b)     #multiplication\n",
        "print(a/b)     #division\n",
        "print(a//b)    #Floor division\n",
        "print(a%b)     #Remainder\n",
        "print(a**2)    #Exponential"
      ],
      "metadata": {
        "colab": {
          "base_uri": "https://localhost:8080/"
        },
        "id": "eJPxg-uSdeGJ",
        "outputId": "b3027796-7e57-49dd-a952-40d48a60dbb8"
      },
      "execution_count": null,
      "outputs": [
        {
          "output_type": "stream",
          "name": "stdout",
          "text": [
            "[5 7 9]\n",
            "[3 3 3]\n",
            "[ 4 10 18]\n",
            "[0.25 0.4  0.5 ]\n",
            "[0 0 0]\n",
            "[1 2 3]\n",
            "[1 4 9]\n"
          ]
        }
      ]
    },
    {
      "cell_type": "markdown",
      "source": [
        "#Universal Functions  -> Ufuncs\n",
        "\n"
      ],
      "metadata": {
        "id": "_zPkXrbPfQ20"
      }
    },
    {
      "cell_type": "code",
      "source": [
        "#SquareRoot\n",
        "arr=np.array([1,2,3,4])\n",
        "arr1=np.array([1,4,9,16])\n",
        "print(np.sqrt(arr))\n",
        "print(np.sqrt(arr1))"
      ],
      "metadata": {
        "colab": {
          "base_uri": "https://localhost:8080/"
        },
        "id": "X5ju9kh5fNuG",
        "outputId": "68f40b50-8907-4304-a867-6781de3a61b8"
      },
      "execution_count": null,
      "outputs": [
        {
          "output_type": "stream",
          "name": "stdout",
          "text": [
            "[1.         1.41421356 1.73205081 2.        ]\n",
            "[1. 2. 3. 4.]\n"
          ]
        }
      ]
    },
    {
      "cell_type": "code",
      "source": [
        "#Exponential\n",
        "print(np.exp([1,2]))"
      ],
      "metadata": {
        "colab": {
          "base_uri": "https://localhost:8080/"
        },
        "id": "BvTwvNiXgoSh",
        "outputId": "ca253917-c622-44e4-fc99-48d65074cfc5"
      },
      "execution_count": null,
      "outputs": [
        {
          "output_type": "stream",
          "name": "stdout",
          "text": [
            "[2.71828183 7.3890561 ]\n"
          ]
        }
      ]
    },
    {
      "cell_type": "code",
      "source": [
        "#Sine\n",
        "angles=[0,np.pi,np.pi/2]\n",
        "print(np.sin(angles))"
      ],
      "metadata": {
        "colab": {
          "base_uri": "https://localhost:8080/"
        },
        "id": "HOC6KT3pg8At",
        "outputId": "f7f2f882-9563-4b7d-9a3b-be63f0b4d2d8"
      },
      "execution_count": null,
      "outputs": [
        {
          "output_type": "stream",
          "name": "stdout",
          "text": [
            "[0.0000000e+00 1.2246468e-16 1.0000000e+00]\n"
          ]
        }
      ]
    },
    {
      "cell_type": "markdown",
      "source": [
        "#Indexing & Slicing\n"
      ],
      "metadata": {
        "id": "bb6GkkLshwf_"
      }
    },
    {
      "cell_type": "code",
      "source": [
        "a=np.array([1,2,3,4,5])\n",
        "print(a[-1:-4:-1])\n",
        "print(a[-1:-4])\n",
        "print(a[: :2])\n",
        "print(a[:])\n",
        "print(a[0:]) #bydefault it will take stop value as last element\n",
        "print(a[:6])  #bydefault it will take start value as first element\n",
        "print(a[-1])\n",
        "print(a[2])"
      ],
      "metadata": {
        "colab": {
          "base_uri": "https://localhost:8080/"
        },
        "id": "Epu8Ywy_h0G_",
        "outputId": "99bde63d-f4e6-4cd0-a8e6-10fecc82ffeb"
      },
      "execution_count": null,
      "outputs": [
        {
          "output_type": "stream",
          "name": "stdout",
          "text": [
            "[5 4 3]\n",
            "[]\n",
            "[1 3 5]\n",
            "[1 2 3 4 5]\n",
            "[1 2 3 4 5]\n",
            "[1 2 3 4 5]\n",
            "5\n",
            "3\n"
          ]
        }
      ]
    },
    {
      "cell_type": "code",
      "source": [
        "matrix=np.array([[1,2,3],\n",
        "                 [4,5,6],\n",
        "                 [7,8,9]])\n",
        "print(matrix[0:2,0:3]) #for 0:2 for rows and 0:3 for cols\n",
        "print(matrix[1: ,1:])"
      ],
      "metadata": {
        "colab": {
          "base_uri": "https://localhost:8080/"
        },
        "id": "mpkeHwS4kKMH",
        "outputId": "c4f78b42-59f6-4fbf-e1f4-a1579f6492b3"
      },
      "execution_count": null,
      "outputs": [
        {
          "output_type": "stream",
          "name": "stdout",
          "text": [
            "[[1 2 3]\n",
            " [4 5 6]]\n",
            "[[5 6]\n",
            " [8 9]]\n"
          ]
        }
      ]
    },
    {
      "cell_type": "code",
      "source": [
        "#Index Array -> Advanced Indexing\n",
        "#np.take() it is a built in fn to perform indexing and slicing\n",
        "arr=np.array([10,20,30,40,50])\n",
        "idx=[0,2]\n",
        "print(np.take(arr,idx))"
      ],
      "metadata": {
        "colab": {
          "base_uri": "https://localhost:8080/"
        },
        "id": "Jn6F2eGalGIG",
        "outputId": "2776ce1a-4d49-4a32-dc31-8ce300b341de"
      },
      "execution_count": null,
      "outputs": [
        {
          "output_type": "stream",
          "name": "stdout",
          "text": [
            "[10 30]\n"
          ]
        }
      ]
    },
    {
      "cell_type": "code",
      "source": [
        "#Iterating with nditer\n",
        "arr=np.array([[1,2],[3,4],[1,5]])\n",
        "for x in np.nditer(arr):\n",
        "  print(x,end=\" \")"
      ],
      "metadata": {
        "colab": {
          "base_uri": "https://localhost:8080/"
        },
        "id": "FQvu2GuTlxBv",
        "outputId": "86a0f809-134e-402f-da33-22f2b57852cf"
      },
      "execution_count": null,
      "outputs": [
        {
          "output_type": "stream",
          "name": "stdout",
          "text": [
            "1 2 3 4 1 5 "
          ]
        }
      ]
    },
    {
      "cell_type": "code",
      "source": [
        "#ndenumerator ->both index + value\n",
        "for idx,x in np.ndenumerate(arr):\n",
        "  print(idx,x)"
      ],
      "metadata": {
        "colab": {
          "base_uri": "https://localhost:8080/"
        },
        "id": "Oy_n3TJSmWJY",
        "outputId": "f2b142f2-3bf2-4108-9c03-da7ca5ab2082"
      },
      "execution_count": null,
      "outputs": [
        {
          "output_type": "stream",
          "name": "stdout",
          "text": [
            "(0, 0) 1\n",
            "(0, 1) 2\n",
            "(1, 0) 3\n",
            "(1, 1) 4\n",
            "(2, 0) 1\n",
            "(2, 1) 5\n"
          ]
        }
      ]
    },
    {
      "cell_type": "markdown",
      "source": [
        "#Views and Copies\n"
      ],
      "metadata": {
        "id": "blgp4fVSm_oX"
      }
    },
    {
      "cell_type": "code",
      "source": [
        "#view\n",
        "arr=np.array([1,2,3,4,5])\n",
        "view=arr[1:3]\n",
        "view"
      ],
      "metadata": {
        "id": "nivyFhnsmV-b",
        "colab": {
          "base_uri": "https://localhost:8080/"
        },
        "outputId": "3839c390-ace2-4ac5-afb4-34a8d1eafc2b"
      },
      "execution_count": null,
      "outputs": [
        {
          "output_type": "execute_result",
          "data": {
            "text/plain": [
              "array([2, 3])"
            ]
          },
          "metadata": {},
          "execution_count": 276
        }
      ]
    },
    {
      "cell_type": "code",
      "source": [
        "view[1]=10\n",
        "view"
      ],
      "metadata": {
        "colab": {
          "base_uri": "https://localhost:8080/"
        },
        "id": "537AKI_H6xSI",
        "outputId": "53f50cbe-8729-42b7-a18f-327870cb14e7"
      },
      "execution_count": null,
      "outputs": [
        {
          "output_type": "execute_result",
          "data": {
            "text/plain": [
              "array([ 2, 10])"
            ]
          },
          "metadata": {},
          "execution_count": 277
        }
      ]
    },
    {
      "cell_type": "code",
      "source": [
        "arr # the view changes is reflectiong to the original array"
      ],
      "metadata": {
        "colab": {
          "base_uri": "https://localhost:8080/"
        },
        "id": "BxpS7tjP61_8",
        "outputId": "2172317d-05a3-4e74-e59f-ce131d364745"
      },
      "execution_count": null,
      "outputs": [
        {
          "output_type": "execute_result",
          "data": {
            "text/plain": [
              "array([ 1,  2, 10,  4,  5])"
            ]
          },
          "metadata": {},
          "execution_count": 278
        }
      ]
    },
    {
      "cell_type": "code",
      "source": [
        "#copy\n",
        "copy=arr[1:3].copy()\n",
        "copy"
      ],
      "metadata": {
        "colab": {
          "base_uri": "https://localhost:8080/"
        },
        "id": "bRZxY-5g7B_3",
        "outputId": "dc0d1d60-9a46-4e0f-aae6-ed539059ab7b"
      },
      "execution_count": null,
      "outputs": [
        {
          "output_type": "execute_result",
          "data": {
            "text/plain": [
              "array([ 2, 10])"
            ]
          },
          "metadata": {},
          "execution_count": 279
        }
      ]
    },
    {
      "cell_type": "code",
      "source": [
        "copy[0]=5     #by using the copy the changes made in copy doesnt reflecting into the original array\n",
        "copy"
      ],
      "metadata": {
        "colab": {
          "base_uri": "https://localhost:8080/"
        },
        "id": "0dyC8oVs7aQD",
        "outputId": "0c5ce70d-dd98-4bda-e01a-fc8b28fc883f"
      },
      "execution_count": null,
      "outputs": [
        {
          "output_type": "execute_result",
          "data": {
            "text/plain": [
              "array([ 5, 10])"
            ]
          },
          "metadata": {},
          "execution_count": 280
        }
      ]
    },
    {
      "cell_type": "code",
      "source": [
        "arr"
      ],
      "metadata": {
        "colab": {
          "base_uri": "https://localhost:8080/"
        },
        "id": "5DGTsaXG7fxi",
        "outputId": "1f44522c-702e-4b17-ee10-c69c70281cd6"
      },
      "execution_count": null,
      "outputs": [
        {
          "output_type": "execute_result",
          "data": {
            "text/plain": [
              "array([ 1,  2, 10,  4,  5])"
            ]
          },
          "metadata": {},
          "execution_count": 281
        }
      ]
    },
    {
      "cell_type": "markdown",
      "source": [
        "#Transpose of a matrix\n"
      ],
      "metadata": {
        "id": "Z91WjUSm7670"
      }
    },
    {
      "cell_type": "code",
      "source": [
        "#transpose -> Interchanging the rows and cols\n",
        "arr=np.array([[1,2],\n",
        "              [3,4]])\n",
        "arr"
      ],
      "metadata": {
        "colab": {
          "base_uri": "https://localhost:8080/"
        },
        "id": "fSq6GY7r7xYf",
        "outputId": "4c7be5e2-417c-422b-a9cd-78fc14cf5e5e"
      },
      "execution_count": null,
      "outputs": [
        {
          "output_type": "execute_result",
          "data": {
            "text/plain": [
              "array([[1, 2],\n",
              "       [3, 4]])"
            ]
          },
          "metadata": {},
          "execution_count": 282
        }
      ]
    },
    {
      "cell_type": "code",
      "source": [
        "arr.transpose()"
      ],
      "metadata": {
        "colab": {
          "base_uri": "https://localhost:8080/"
        },
        "id": "q69Rtb2V8Nb_",
        "outputId": "54e10f44-7d59-4902-823b-b4f4ce79eaff"
      },
      "execution_count": null,
      "outputs": [
        {
          "output_type": "execute_result",
          "data": {
            "text/plain": [
              "array([[1, 3],\n",
              "       [2, 4]])"
            ]
          },
          "metadata": {},
          "execution_count": 283
        }
      ]
    },
    {
      "cell_type": "code",
      "source": [
        "#swapaxes -> swap 2 specific axes in a matrix\n",
        "arr=np.array([[[1,2],\n",
        "              [3,4]]])\n",
        "arr.shape"
      ],
      "metadata": {
        "colab": {
          "base_uri": "https://localhost:8080/"
        },
        "id": "B3fj6Qba8VLQ",
        "outputId": "dc567a4c-7845-47cb-9f37-1ca94f215621"
      },
      "execution_count": null,
      "outputs": [
        {
          "output_type": "execute_result",
          "data": {
            "text/plain": [
              "(1, 2, 2)"
            ]
          },
          "metadata": {},
          "execution_count": 284
        }
      ]
    },
    {
      "cell_type": "code",
      "source": [
        "swap=np.swapaxes(arr,0,1)\n",
        "swap.shape\n"
      ],
      "metadata": {
        "colab": {
          "base_uri": "https://localhost:8080/"
        },
        "id": "Fa_jwo1t8yTR",
        "outputId": "bf2a411c-456c-452c-e7aa-6e2f2a6358a2"
      },
      "execution_count": null,
      "outputs": [
        {
          "output_type": "execute_result",
          "data": {
            "text/plain": [
              "(2, 1, 2)"
            ]
          },
          "metadata": {},
          "execution_count": 285
        }
      ]
    },
    {
      "cell_type": "code",
      "source": [
        "#concatenation\n",
        "a=np.array([1,2])\n",
        "b=np.array([3,4])\n",
        "np.concatenate((a,b))"
      ],
      "metadata": {
        "colab": {
          "base_uri": "https://localhost:8080/"
        },
        "id": "gnJPB9dF9C9l",
        "outputId": "ae9c58b5-1e5f-4c93-ce80-8492d5c1a773"
      },
      "execution_count": null,
      "outputs": [
        {
          "output_type": "execute_result",
          "data": {
            "text/plain": [
              "array([1, 2, 3, 4])"
            ]
          },
          "metadata": {},
          "execution_count": 286
        }
      ]
    },
    {
      "cell_type": "code",
      "source": [
        "#vertical Stack\n",
        "a=np.random.randint(10,100,size=(2,3))\n",
        "b=np.random.randint(10,100,size=(2,3))\n",
        "a\n"
      ],
      "metadata": {
        "colab": {
          "base_uri": "https://localhost:8080/"
        },
        "id": "v6sS7xPu9ufh",
        "outputId": "35bdce65-f7ae-4f1f-8e7d-077ff3510318"
      },
      "execution_count": null,
      "outputs": [
        {
          "output_type": "execute_result",
          "data": {
            "text/plain": [
              "array([[65, 17, 16],\n",
              "       [53, 54, 51]])"
            ]
          },
          "metadata": {},
          "execution_count": 287
        }
      ]
    },
    {
      "cell_type": "code",
      "source": [
        "b"
      ],
      "metadata": {
        "colab": {
          "base_uri": "https://localhost:8080/"
        },
        "id": "-xlMjgLX-Lwf",
        "outputId": "926ae631-b9e6-44e5-e7fc-b9435edfe209"
      },
      "execution_count": null,
      "outputs": [
        {
          "output_type": "execute_result",
          "data": {
            "text/plain": [
              "array([[69, 72, 69],\n",
              "       [66, 75, 39]])"
            ]
          },
          "metadata": {},
          "execution_count": 288
        }
      ]
    },
    {
      "cell_type": "code",
      "source": [
        "np.vstack((a,b))   #vstack with join array like ^|^ vertical"
      ],
      "metadata": {
        "colab": {
          "base_uri": "https://localhost:8080/"
        },
        "id": "qtBT11Je-Nt_",
        "outputId": "a78093ff-e7df-4581-f6f0-9e1cf47172aa"
      },
      "execution_count": null,
      "outputs": [
        {
          "output_type": "execute_result",
          "data": {
            "text/plain": [
              "array([[65, 17, 16],\n",
              "       [53, 54, 51],\n",
              "       [69, 72, 69],\n",
              "       [66, 75, 39]])"
            ]
          },
          "metadata": {},
          "execution_count": 289
        }
      ]
    },
    {
      "cell_type": "code",
      "source": [
        "a=np.random.randint(10,100,size=(2,3))\n",
        "b=np.random.randint(10,100,size=(2,3))"
      ],
      "metadata": {
        "id": "5lz2DA9D-tF-"
      },
      "execution_count": null,
      "outputs": []
    },
    {
      "cell_type": "code",
      "source": [
        "np.hstack((a,b)) #h stack with join array like <-->"
      ],
      "metadata": {
        "colab": {
          "base_uri": "https://localhost:8080/"
        },
        "id": "_8Z3wHSC-xkj",
        "outputId": "f9623678-b635-475d-a84f-36446d47d24e"
      },
      "execution_count": null,
      "outputs": [
        {
          "output_type": "execute_result",
          "data": {
            "text/plain": [
              "array([[27, 32, 37, 70, 75, 32],\n",
              "       [92, 54, 83, 80, 92, 19]])"
            ]
          },
          "metadata": {},
          "execution_count": 291
        }
      ]
    },
    {
      "cell_type": "code",
      "source": [
        "a=np.array([[1,2],[3,4]])\n",
        "b=np.array([[5,6],[7,8]])\n",
        "np.stack((a,b),axis=1)           #axis 0 means row wise"
      ],
      "metadata": {
        "colab": {
          "base_uri": "https://localhost:8080/"
        },
        "id": "QPtmGQba_VVa",
        "outputId": "4dad4200-d107-42fb-fd80-91feb5fd3985"
      },
      "execution_count": null,
      "outputs": [
        {
          "output_type": "execute_result",
          "data": {
            "text/plain": [
              "array([[[1, 2],\n",
              "        [5, 6]],\n",
              "\n",
              "       [[3, 4],\n",
              "        [7, 8]]])"
            ]
          },
          "metadata": {},
          "execution_count": 292
        }
      ]
    },
    {
      "cell_type": "code",
      "source": [
        "np.stack((a,b),axis=0)"
      ],
      "metadata": {
        "colab": {
          "base_uri": "https://localhost:8080/"
        },
        "id": "97Z2eyN4AAQ8",
        "outputId": "da40a453-7702-4b5a-ce92-838a22e5f7e6"
      },
      "execution_count": null,
      "outputs": [
        {
          "output_type": "execute_result",
          "data": {
            "text/plain": [
              "array([[[1, 2],\n",
              "        [3, 4]],\n",
              "\n",
              "       [[5, 6],\n",
              "        [7, 8]]])"
            ]
          },
          "metadata": {},
          "execution_count": 293
        }
      ]
    },
    {
      "cell_type": "code",
      "source": [
        "#splitting the arrays\n",
        "arr=np.array([[1,2],[3,4],[5,6],[7,8]])\n",
        "arr"
      ],
      "metadata": {
        "colab": {
          "base_uri": "https://localhost:8080/"
        },
        "id": "j5rwoenzAYtd",
        "outputId": "63198d3a-5157-4015-c65f-815ece76e3e1"
      },
      "execution_count": null,
      "outputs": [
        {
          "output_type": "execute_result",
          "data": {
            "text/plain": [
              "array([[1, 2],\n",
              "       [3, 4],\n",
              "       [5, 6],\n",
              "       [7, 8]])"
            ]
          },
          "metadata": {},
          "execution_count": 294
        }
      ]
    },
    {
      "cell_type": "code",
      "source": [
        "np.split(arr,2) # while splitting the array should be divided into 2 equal parts,e.g 3,that not divided into two equal parts it raises an error"
      ],
      "metadata": {
        "colab": {
          "base_uri": "https://localhost:8080/"
        },
        "id": "uO8zlxc5Akb_",
        "outputId": "7908648b-ad19-4466-c3ee-893dc2eaeaae"
      },
      "execution_count": null,
      "outputs": [
        {
          "output_type": "execute_result",
          "data": {
            "text/plain": [
              "[array([[1, 2],\n",
              "        [3, 4]]),\n",
              " array([[5, 6],\n",
              "        [7, 8]])]"
            ]
          },
          "metadata": {},
          "execution_count": 295
        }
      ]
    },
    {
      "cell_type": "code",
      "source": [
        "np.hsplit(arr,2)"
      ],
      "metadata": {
        "colab": {
          "base_uri": "https://localhost:8080/"
        },
        "id": "kBQZC_86BGZh",
        "outputId": "bbbd4e47-7e2c-4bfe-86ab-810f83c4a028"
      },
      "execution_count": null,
      "outputs": [
        {
          "output_type": "execute_result",
          "data": {
            "text/plain": [
              "[array([[1],\n",
              "        [3],\n",
              "        [5],\n",
              "        [7]]),\n",
              " array([[2],\n",
              "        [4],\n",
              "        [6],\n",
              "        [8]])]"
            ]
          },
          "metadata": {},
          "execution_count": 296
        }
      ]
    },
    {
      "cell_type": "code",
      "source": [
        "np.vsplit(arr,2)"
      ],
      "metadata": {
        "colab": {
          "base_uri": "https://localhost:8080/"
        },
        "id": "JNw9tLhWBJAl",
        "outputId": "33608b07-816b-4969-f212-abb40ed0135d"
      },
      "execution_count": null,
      "outputs": [
        {
          "output_type": "execute_result",
          "data": {
            "text/plain": [
              "[array([[1, 2],\n",
              "        [3, 4]]),\n",
              " array([[5, 6],\n",
              "        [7, 8]])]"
            ]
          },
          "metadata": {},
          "execution_count": 297
        }
      ]
    },
    {
      "cell_type": "markdown",
      "source": [
        "#Repeating & Tileing\n",
        "\n"
      ],
      "metadata": {
        "id": "7mB8WAzfBVhm"
      }
    },
    {
      "cell_type": "code",
      "source": [
        "arr=np.array([1,2,3]) #each element repeated twice\n",
        "np.repeat(arr,3)"
      ],
      "metadata": {
        "colab": {
          "base_uri": "https://localhost:8080/"
        },
        "id": "bjxqfkEsBXMv",
        "outputId": "ec528a44-179b-4f0c-a56d-fe16b891e8e6"
      },
      "execution_count": null,
      "outputs": [
        {
          "output_type": "execute_result",
          "data": {
            "text/plain": [
              "array([1, 1, 1, 2, 2, 2, 3, 3, 3])"
            ]
          },
          "metadata": {},
          "execution_count": 298
        }
      ]
    },
    {
      "cell_type": "code",
      "source": [
        "#Tile -> repeat the whole array\n",
        "arr=np.array([1,2,3])\n",
        "np.tile(arr,3)"
      ],
      "metadata": {
        "colab": {
          "base_uri": "https://localhost:8080/"
        },
        "id": "u5mg21aZBqT5",
        "outputId": "488a822d-953d-4aa7-9d6d-c57a8944c129"
      },
      "execution_count": null,
      "outputs": [
        {
          "output_type": "execute_result",
          "data": {
            "text/plain": [
              "array([1, 2, 3, 1, 2, 3, 1, 2, 3])"
            ]
          },
          "metadata": {},
          "execution_count": 299
        }
      ]
    },
    {
      "cell_type": "markdown",
      "source": [
        "#Aggregate Functions"
      ],
      "metadata": {
        "id": "uv0pUTRHCQt1"
      }
    },
    {
      "cell_type": "code",
      "source": [
        "arr=np.random.randint(10,20,size=(1,5))\n",
        "print(arr)\n",
        "print(arr.min())\n",
        "print(arr.max())\n",
        "print(arr.mean())\n",
        "print(arr.std())\n",
        "print(arr.var())"
      ],
      "metadata": {
        "colab": {
          "base_uri": "https://localhost:8080/"
        },
        "id": "La60zq38CQP1",
        "outputId": "d99e3486-2e84-4323-9608-30fa32115bb8"
      },
      "execution_count": null,
      "outputs": [
        {
          "output_type": "stream",
          "name": "stdout",
          "text": [
            "[[14 12 13 15 11]]\n",
            "11\n",
            "15\n",
            "13.0\n",
            "1.4142135623730951\n",
            "2.0\n"
          ]
        }
      ]
    },
    {
      "cell_type": "code",
      "source": [
        "print(matrix)\n",
        "print(np.sum(matrix,axis=0))\n",
        "print(np.sum(matrix,axis=1))"
      ],
      "metadata": {
        "colab": {
          "base_uri": "https://localhost:8080/"
        },
        "id": "pKFw51CsDGTR",
        "outputId": "b76c4251-34b2-4d51-daf7-e57d5e1bc28a"
      },
      "execution_count": null,
      "outputs": [
        {
          "output_type": "stream",
          "name": "stdout",
          "text": [
            "[[1 2 3]\n",
            " [4 5 6]\n",
            " [7 8 9]]\n",
            "[12 15 18]\n",
            "[ 6 15 24]\n"
          ]
        }
      ]
    },
    {
      "cell_type": "markdown",
      "source": [
        "#Cumulative Operations\n"
      ],
      "metadata": {
        "id": "qZp06UHuDmU3"
      }
    },
    {
      "cell_type": "code",
      "source": [
        "#cumulative operations ->  running total\n",
        "arr=np.array([1,2,3])\n",
        "print(np.cumsum(arr))\n",
        "print(np.cumprod(arr))"
      ],
      "metadata": {
        "colab": {
          "base_uri": "https://localhost:8080/"
        },
        "id": "OL-ULpc4DbZP",
        "outputId": "75ed658d-6083-4dee-bef8-ca42eb54a9e1"
      },
      "execution_count": null,
      "outputs": [
        {
          "output_type": "stream",
          "name": "stdout",
          "text": [
            "[1 3 6]\n",
            "[1 2 6]\n"
          ]
        }
      ]
    },
    {
      "cell_type": "code",
      "source": [
        "#where\n",
        "result=np.where(arr<2,\"low\",\"high\")\n",
        "result"
      ],
      "metadata": {
        "colab": {
          "base_uri": "https://localhost:8080/"
        },
        "id": "RsqLAYgoEbVy",
        "outputId": "05a3de70-9882-46b4-d5e0-41fb79ad4ad6"
      },
      "execution_count": null,
      "outputs": [
        {
          "output_type": "execute_result",
          "data": {
            "text/plain": [
              "array(['low', 'high', 'high'], dtype='<U4')"
            ]
          },
          "metadata": {},
          "execution_count": 303
        }
      ]
    },
    {
      "cell_type": "code",
      "source": [
        "#arg where ->  return row columns position for 2d arrays\n",
        "arr=np.array([10,25,30,50])\n",
        "print(np.argwhere(arr>25))"
      ],
      "metadata": {
        "colab": {
          "base_uri": "https://localhost:8080/"
        },
        "id": "ccNos9JME_xj",
        "outputId": "42f416f6-326a-4c6b-eb08-ff6562b197c0"
      },
      "execution_count": null,
      "outputs": [
        {
          "output_type": "stream",
          "name": "stdout",
          "text": [
            "[[2]\n",
            " [3]]\n"
          ]
        }
      ]
    },
    {
      "cell_type": "code",
      "source": [
        "mask=np.logical_and(arr>10,arr<50)\n",
        "arr[mask]"
      ],
      "metadata": {
        "colab": {
          "base_uri": "https://localhost:8080/"
        },
        "id": "w1QZxAcsF7OS",
        "outputId": "42da4c1a-5183-4c65-cdc6-e421da78a659"
      },
      "execution_count": null,
      "outputs": [
        {
          "output_type": "execute_result",
          "data": {
            "text/plain": [
              "array([25, 30])"
            ]
          },
          "metadata": {},
          "execution_count": 305
        }
      ]
    },
    {
      "cell_type": "code",
      "source": [
        "print(matrix)\n",
        "print(np.argwhere(matrix>5))"
      ],
      "metadata": {
        "colab": {
          "base_uri": "https://localhost:8080/"
        },
        "id": "JY9sBZw2GHcn",
        "outputId": "ae53b879-e0e2-4e0b-9bb2-8b0f41fdb2f9"
      },
      "execution_count": null,
      "outputs": [
        {
          "output_type": "stream",
          "name": "stdout",
          "text": [
            "[[1 2 3]\n",
            " [4 5 6]\n",
            " [7 8 9]]\n",
            "[[1 2]\n",
            " [2 0]\n",
            " [2 1]\n",
            " [2 2]]\n"
          ]
        }
      ]
    },
    {
      "cell_type": "code",
      "source": [
        "mask=np.logical_or(arr<5,arr<25)\n",
        "arr[mask]"
      ],
      "metadata": {
        "colab": {
          "base_uri": "https://localhost:8080/"
        },
        "id": "eZDNZFB_bxhP",
        "outputId": "7163e3a4-ff51-4914-fbcb-44b6a90adefd"
      },
      "execution_count": null,
      "outputs": [
        {
          "output_type": "execute_result",
          "data": {
            "text/plain": [
              "array([10])"
            ]
          },
          "metadata": {},
          "execution_count": 307
        }
      ]
    },
    {
      "cell_type": "code",
      "source": [
        "arr1=np.array([1,2,5,0,8,0,4,9,7,])\n",
        "arr1"
      ],
      "metadata": {
        "colab": {
          "base_uri": "https://localhost:8080/"
        },
        "id": "LzKoVX0MdUZl",
        "outputId": "0a815a8f-8d4e-4ed2-9c30-7a50cad67bc6"
      },
      "execution_count": null,
      "outputs": [
        {
          "output_type": "execute_result",
          "data": {
            "text/plain": [
              "array([1, 2, 5, 0, 8, 0, 4, 9, 7])"
            ]
          },
          "metadata": {},
          "execution_count": 308
        }
      ]
    },
    {
      "cell_type": "code",
      "source": [
        "np.nonzero(arr1)"
      ],
      "metadata": {
        "colab": {
          "base_uri": "https://localhost:8080/"
        },
        "id": "WjAKPRMadb1B",
        "outputId": "c39850b1-c9cd-4b86-ed80-5be231c76d77"
      },
      "execution_count": null,
      "outputs": [
        {
          "output_type": "execute_result",
          "data": {
            "text/plain": [
              "(array([0, 1, 2, 4, 6, 7, 8]),)"
            ]
          },
          "metadata": {},
          "execution_count": 309
        }
      ]
    },
    {
      "cell_type": "markdown",
      "source": [
        "#Broadcasting\n"
      ],
      "metadata": {
        "id": "o1rljJnEeLqa"
      }
    },
    {
      "cell_type": "code",
      "source": [
        "#NUmpy ciompares the shapes of an array from the right to left\n",
        "#Rules for Broadcasting\n",
        "\"\"\" -> if shapes are equal they are compatible\n",
        "-> if one is 1 it can be strectched to match other\n",
        "-> if shapes are different and not 1 or equal -> X Error\n",
        "\"\"\""
      ],
      "metadata": {
        "colab": {
          "base_uri": "https://localhost:8080/",
          "height": 36
        },
        "id": "AThW_ehieUh-",
        "outputId": "73035621-b21c-4afa-de48-5dac1c590e61"
      },
      "execution_count": null,
      "outputs": [
        {
          "output_type": "execute_result",
          "data": {
            "text/plain": [
              "' -> if shapes are equal they are compatible\\n-> if one is 1 it can be strectched to match other\\n-> if shapes are different and not 1 or equal -> X Error\\n'"
            ],
            "application/vnd.google.colaboratory.intrinsic+json": {
              "type": "string"
            }
          },
          "metadata": {},
          "execution_count": 310
        }
      ]
    },
    {
      "cell_type": "code",
      "source": [
        "image=np.array([[200,150],[100,250]])\n",
        "image"
      ],
      "metadata": {
        "colab": {
          "base_uri": "https://localhost:8080/"
        },
        "id": "ZzjFsRdHex6Z",
        "outputId": "9bf8c72f-8822-402b-90cc-da2de37f51f4"
      },
      "execution_count": null,
      "outputs": [
        {
          "output_type": "execute_result",
          "data": {
            "text/plain": [
              "array([[200, 150],\n",
              "       [100, 250]])"
            ]
          },
          "metadata": {},
          "execution_count": 311
        }
      ]
    },
    {
      "cell_type": "code",
      "source": [
        "brightness=image+50\n",
        "brightness"
      ],
      "metadata": {
        "colab": {
          "base_uri": "https://localhost:8080/"
        },
        "id": "H17aIYDNiHjE",
        "outputId": "8ac2d401-fd03-4f6e-fe34-ea1ad2481759"
      },
      "execution_count": null,
      "outputs": [
        {
          "output_type": "execute_result",
          "data": {
            "text/plain": [
              "array([[250, 200],\n",
              "       [150, 300]])"
            ]
          },
          "metadata": {},
          "execution_count": 312
        }
      ]
    },
    {
      "cell_type": "code",
      "source": [
        "#Vectorization\n",
        "#np.vectorize() -> Convert a regular function to be applied on the array\n",
        "def square(x):\n",
        "  return x*x\n",
        "vfunc=np.vectorize(square)\n",
        "print(arr)\n",
        "print(vfunc(arr))"
      ],
      "metadata": {
        "colab": {
          "base_uri": "https://localhost:8080/"
        },
        "id": "kYznqXg7iaAW",
        "outputId": "a0c742fc-0a31-44b0-842f-d7e448d8f6ab"
      },
      "execution_count": null,
      "outputs": [
        {
          "output_type": "stream",
          "name": "stdout",
          "text": [
            "[10 25 30 50]\n",
            "[ 100  625  900 2500]\n"
          ]
        }
      ]
    },
    {
      "cell_type": "code",
      "source": [
        "#Dealing with missing values\n",
        "#np.nan -> not a number\n",
        "arr=np.array([1,2,np.nan,5])\n",
        "arr"
      ],
      "metadata": {
        "colab": {
          "base_uri": "https://localhost:8080/"
        },
        "id": "uJ0UV-ZWjUOa",
        "outputId": "df673b77-0dc4-4d84-b5df-249c358bafd1"
      },
      "execution_count": null,
      "outputs": [
        {
          "output_type": "execute_result",
          "data": {
            "text/plain": [
              "array([ 1.,  2., nan,  5.])"
            ]
          },
          "metadata": {},
          "execution_count": 314
        }
      ]
    },
    {
      "cell_type": "code",
      "source": [
        "#np.inf and -np.inf which represents the poitive and negative infinte values\n",
        "#np.isnan\n",
        "#np.isinf\n",
        "#np.isfinite\n",
        "#these are functions  used to detect the any null values infinite and finite values\n",
        "print(np.isnan(arr))"
      ],
      "metadata": {
        "colab": {
          "base_uri": "https://localhost:8080/"
        },
        "id": "aIt2ocmWkaN7",
        "outputId": "982206f6-b82a-442c-af8c-683057119974"
      },
      "execution_count": null,
      "outputs": [
        {
          "output_type": "stream",
          "name": "stdout",
          "text": [
            "[False False  True False]\n"
          ]
        }
      ]
    },
    {
      "cell_type": "code",
      "source": [
        "b=np.array([1,2,np.nan,3,5,np.inf,8,10.2])\n",
        "print(np.isinf(b))\n",
        "print(np.isnan(b))\n",
        "print(np.isfinite(b))\n",
        "new_b=np.nan_to_num(b) #Remove  Nan/infinite values\n",
        "print(new_b)"
      ],
      "metadata": {
        "colab": {
          "base_uri": "https://localhost:8080/"
        },
        "id": "pmpTp02qlElG",
        "outputId": "0016102c-4624-4945-c180-a087cd18aa58"
      },
      "execution_count": null,
      "outputs": [
        {
          "output_type": "stream",
          "name": "stdout",
          "text": [
            "[False False False False False  True False False]\n",
            "[False False  True False False False False False]\n",
            "[ True  True False  True  True False  True  True]\n",
            "[1.00000000e+000 2.00000000e+000 0.00000000e+000 3.00000000e+000\n",
            " 5.00000000e+000 1.79769313e+308 8.00000000e+000 1.02000000e+001]\n"
          ]
        }
      ]
    }
  ]
}